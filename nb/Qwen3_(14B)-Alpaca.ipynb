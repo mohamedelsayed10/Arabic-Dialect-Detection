{
  "cells": [
    {
      "cell_type": "markdown",
      "metadata": {
        "id": "B0SS4Zk9pjyG"
      },
      "source": [
        "To run this, press \"*Runtime*\" and press \"*Run all*\" on a **free** Tesla T4 Google Colab instance!\n",
        "<div class=\"align-center\">\n",
        "<a href=\"https://unsloth.ai/\"><img src=\"https://github.com/unslothai/unsloth/raw/main/images/unsloth%20new%20logo.png\" width=\"115\"></a>\n",
        "<a href=\"https://discord.gg/unsloth\"><img src=\"https://github.com/unslothai/unsloth/raw/main/images/Discord button.png\" width=\"145\"></a>\n",
        "<a href=\"https://docs.unsloth.ai/\"><img src=\"https://github.com/unslothai/unsloth/blob/main/images/documentation%20green%20button.png?raw=true\" width=\"125\"></a></a> Join Discord if you need help + ⭐ <i>Star us on <a href=\"https://github.com/unslothai/unsloth\">Github</a> </i> ⭐\n",
        "</div>\n",
        "\n",
        "To install Unsloth on your own computer, follow the installation instructions on our Github page [here](https://docs.unsloth.ai/get-started/installing-+-updating).\n",
        "\n",
        "You will learn how to do [data prep](#Data), how to [train](#Train), how to [run the model](#Inference), & [how to save it](#Save)\n"
      ]
    },
    {
      "cell_type": "markdown",
      "metadata": {
        "id": "_2G22pVlpjyI"
      },
      "source": [
        "### News"
      ]
    },
    {
      "cell_type": "markdown",
      "metadata": {
        "id": "jKDe_MQ3pjyJ"
      },
      "source": [
        "Read our **[Qwen3 Guide](https://docs.unsloth.ai/basics/qwen3-how-to-run-and-fine-tune)** and check out our new **[Dynamic 2.0](https://docs.unsloth.ai/basics/unsloth-dynamic-2.0-ggufs)** quants which outperforms other quantization methods!\n",
        "\n",
        "Visit our docs for all our [model uploads](https://docs.unsloth.ai/get-started/all-our-models) and [notebooks](https://docs.unsloth.ai/get-started/unsloth-notebooks).\n"
      ]
    },
    {
      "cell_type": "markdown",
      "metadata": {
        "id": "sPuoxRX8pjyJ"
      },
      "source": [
        "### Installation"
      ]
    },
    {
      "cell_type": "code",
      "execution_count": 1,
      "metadata": {
        "id": "qYfd24KzpjyK"
      },
      "outputs": [],
      "source": [
        "%%capture\n",
        "import os\n",
        "if \"COLAB_\" not in \"\".join(os.environ.keys()):\n",
        "    !pip install unsloth\n",
        "else:\n",
        "    # Do this only in Colab notebooks! Otherwise use pip install unsloth\n",
        "    !pip install --no-deps bitsandbytes accelerate xformers==0.0.29.post3 peft trl==0.15.2 triton cut_cross_entropy unsloth_zoo\n",
        "    !pip install sentencepiece protobuf datasets huggingface_hub hf_transfer\n",
        "    !pip install --no-deps unsloth"
      ]
    },
    {
      "cell_type": "markdown",
      "metadata": {
        "id": "iajq1W8ipjyK"
      },
      "source": [
        "### Unsloth"
      ]
    },
    {
      "cell_type": "code",
      "execution_count": 1,
      "metadata": {
        "colab": {
          "base_uri": "https://localhost:8080/"
        },
        "id": "QmUBVEnvCDJv",
        "outputId": "a30d6901-23e9-4f64-894f-1e5bc78f2193"
      },
      "outputs": [
        {
          "output_type": "stream",
          "name": "stdout",
          "text": [
            "🦥 Unsloth: Will patch your computer to enable 2x faster free finetuning.\n",
            "🦥 Unsloth Zoo will now patch everything to make training faster!\n",
            "==((====))==  Unsloth 2025.4.7: Fast Qwen3 patching. Transformers: 4.51.3.\n",
            "   \\\\   /|    Tesla T4. Num GPUs = 1. Max memory: 14.741 GB. Platform: Linux.\n",
            "O^O/ \\_/ \\    Torch: 2.6.0+cu124. CUDA: 7.5. CUDA Toolkit: 12.4. Triton: 3.2.0\n",
            "\\        /    Bfloat16 = FALSE. FA [Xformers = 0.0.29.post3. FA2 = False]\n",
            " \"-____-\"     Free license: http://github.com/unslothai/unsloth\n",
            "Unsloth: Fast downloading is enabled - ignore downloading bars which are red colored!\n"
          ]
        }
      ],
      "source": [
        "from unsloth import FastLanguageModel\n",
        "import torch\n",
        "max_seq_length = 2048 # Choose any! We auto support RoPE Scaling internally!\n",
        "dtype = None # None for auto detection. Float16 for Tesla T4, V100, Bfloat16 for Ampere+\n",
        "load_in_4bit = True # Use 4bit quantization to reduce memory usage. Can be False.\n",
        "\n",
        "# 4bit pre quantized models we support for 4x faster downloading + no OOMs.\n",
        "fourbit_models = [\n",
        "    \"unsloth/Meta-Llama-3.1-8B-bnb-4bit\",      # Llama-3.1 2x faster\n",
        "    \"unsloth/Meta-Llama-3.1-70B-bnb-4bit\",\n",
        "    \"unsloth/Mistral-Small-Instruct-2409\",     # Mistral 22b 2x faster!\n",
        "    \"unsloth/mistral-7b-instruct-v0.3-bnb-4bit\",\n",
        "    \"unsloth/Phi-3.5-mini-instruct\",           # Phi-3.5 2x faster!\n",
        "    \"unsloth/Phi-3-medium-4k-instruct\",\n",
        "    \"unsloth/gemma-2-27b-bnb-4bit\",            # Gemma 2x faster!\n",
        "\n",
        "    \"unsloth/Llama-3.2-1B-bnb-4bit\",           # NEW! Llama 3.2 models\n",
        "    \"unsloth/Llama-3.2-1B-Instruct-bnb-4bit\",\n",
        "    \"unsloth/Llama-3.2-3B-Instruct-bnb-4bit\",\n",
        "] # More models at https://huggingface.co/unsloth\n",
        "\n",
        "qwen_models = [\n",
        "    \"unsloth/Qwen3-14B-unsloth-bnb-4bit\",      # Qwen 14B 2x faster\n",
        "    \"unsloth/Qwen3-8B-unsloth-bnb-4bit\",\n",
        "    \"unsloth/Qwen3-0.6B-unsloth-bnb-4bit\",\n",
        "    \"unsloth/Qwen3-1.7B-unsloth-bnb-4bit\",\n",
        "] # More models at https://huggingface.co/unsloth\n",
        "\n",
        "model, tokenizer = FastLanguageModel.from_pretrained(\n",
        "    model_name = \"unsloth/Qwen3-0.6B\",\n",
        "    max_seq_length = max_seq_length,\n",
        "    dtype = dtype,\n",
        "    load_in_4bit = False,\n",
        "    # token = \"hf_...\", # use one if using gated models like meta-llama/Llama-2-7b-hf\n",
        ")"
      ]
    },
    {
      "cell_type": "markdown",
      "metadata": {
        "id": "SXd9bTZd1aaL"
      },
      "source": [
        "We now add LoRA adapters so we only need to update 1 to 10% of all parameters!"
      ]
    },
    {
      "cell_type": "code",
      "execution_count": 2,
      "metadata": {
        "colab": {
          "base_uri": "https://localhost:8080/"
        },
        "id": "6bZsfBuZDeCL",
        "outputId": "0350a417-2520-4061-ae2f-e1200c254893"
      },
      "outputs": [
        {
          "output_type": "stream",
          "name": "stderr",
          "text": [
            "Unsloth 2025.4.7 patched 28 layers with 28 QKV layers, 28 O layers and 28 MLP layers.\n"
          ]
        }
      ],
      "source": [
        "model = FastLanguageModel.get_peft_model(\n",
        "    model,\n",
        "    r = 64, # Choose any number > 0 ! Suggested 8, 64, 32, 64, 128\n",
        "    target_modules = [\"q_proj\", \"k_proj\", \"v_proj\", \"o_proj\",\n",
        "                      \"gate_proj\", \"up_proj\", \"down_proj\",],\n",
        "    lora_alpha = 64,\n",
        "    lora_dropout = 0, # Supports any, but = 0 is optimized\n",
        "    bias = \"none\",    # Supports any, but = \"none\" is optimized\n",
        "    # [NEW] \"unsloth\" uses 30% less VRAM, fits 2x larger batch sizes!\n",
        "    use_gradient_checkpointing = \"unsloth\", # True or \"unsloth\" for very long context\n",
        "    random_state = 3407,\n",
        "    use_rslora = False,  # We support rank stabilized LoRA\n",
        "    loftq_config = None, # And LoftQ\n",
        ")"
      ]
    },
    {
      "cell_type": "code",
      "source": [
        "from datasets import load_dataset\n",
        "dataset_train = load_dataset(\"csv\", data_files=\"train.csv\", column_names=[\"text\", \"summary\"])[\"train\"]\n",
        "dataset_test= load_dataset(\"csv\", data_files=\"test.csv\", column_names=[\"text\", \"summary\"])[\"train\"]"
      ],
      "metadata": {
        "id": "JZpED9R3qlkM"
      },
      "execution_count": 3,
      "outputs": []
    },
    {
      "cell_type": "markdown",
      "metadata": {
        "id": "vITh0KVJ10qX"
      },
      "source": [
        "<a name=\"Data\"></a>\n",
        "### Data Prep\n",
        "We now use the Alpaca dataset from [yahma](https://huggingface.co/datasets/yahma/alpaca-cleaned), which is a filtered version of 52K of the original [Alpaca dataset](https://crfm.stanford.edu/2023/03/13/alpaca.html). You can replace this code section with your own data prep."
      ]
    },
    {
      "cell_type": "code",
      "execution_count": 4,
      "metadata": {
        "id": "LjY75GoYUCB8"
      },
      "outputs": [],
      "source": [
        "from typing import Dict, List\n",
        "\n",
        "def formatting_prompts_func(examples: Dict[str, List[str]]) -> Dict[str, List[str]]:\n",
        "    messages_list = []\n",
        "\n",
        "    for text, summary in zip(examples[\"text\"], examples[\"summary\"]):\n",
        "        messages = [\n",
        "            {\"role\": \"user\", \"content\": f\"Summarize the following Arabic text clearly, concisely, and accurately:\\n{text}\"},\n",
        "            {\"role\": \"assistant\", \"content\": summary},\n",
        "        ]\n",
        "        messages_list.append(messages)\n",
        "\n",
        "    texts = [\n",
        "        tokenizer.apply_chat_template(messages, tokenize=False, add_generation_prompt=False).removeprefix('<bos>')\n",
        "        for messages in messages_list\n",
        "    ]\n",
        "\n",
        "    return {\"text\": texts}\n"
      ]
    },
    {
      "cell_type": "code",
      "source": [
        "\n",
        "dataset_train = dataset_train.map(formatting_prompts_func, batched = True)\n",
        "\n",
        "dataset_test = dataset_test.map(formatting_prompts_func, batched = True)"
      ],
      "metadata": {
        "id": "YYUSQZ7rqv21"
      },
      "execution_count": 5,
      "outputs": []
    },
    {
      "cell_type": "code",
      "source": [
        "dataset_train[100]"
      ],
      "metadata": {
        "id": "3YOmm3u8qyOE",
        "outputId": "56842424-eb87-4062-af78-59e710bda541",
        "colab": {
          "base_uri": "https://localhost:8080/"
        }
      },
      "execution_count": 6,
      "outputs": [
        {
          "output_type": "execute_result",
          "data": {
            "text/plain": [
              "{'text': '<|im_start|>user\\nSummarize the following Arabic text clearly, concisely, and accurately:\\nوزارة الخارجية الإيرانية قالت إن تصريحات ظريف جرى التلاعب فيها واعترف ظريف في هذه التسريبات المزعومة بأن سليماني كان يسيطر على الدبلوماسية بشكل كبير إلى درجة أن تأثيره هو في قيادة دبلوماسية بلاده يكاد يكون منعدما، بحسب ما نقلته الغارديان. وأوضحت الصحيفة أن وزارة الخارجية الإيرانية قالت إن التصريحات التي وردت في حوار أجراه ظريف مع موقع إيران إنترناشونال \"مجتزأة\" وجرى التلاعب فيها من خلال اختيار أجزاء محددة منها. ويذكر الكاتب أن البعض يرى أن نشر هذه التسريبات هدفه ضرب مصداقية ظريف في مفاوضات الملف النووي، بينما يرى آخرون أن ظريف نفسه يريد أن ينفض يديه من فشل محتمل للمفاوضات مع الدول الغربية. وتأتي هذه التصريحات المسربة وسط احتدام المعركة في إيران بشأن إعادة إحياء الاتفاق النووي الذي أبرمته إيران مع الدول العظمى في 2015. مواضيع قد تهمك نهاية وتجري مفاوضات في فيينا بين واشنطن وطهران. واعترفت وزارة الخارجية بأن الحوار حقيقي، ولكنها قالت إنه لم يكن موجها للنشر، مضيفة أن المحتوى تم التلاعب فيه لجعل تصريحات ظريف تبدو انتقادا لسليماني. وأضاف الكاتب أن هذه هي المرة الثانية التي تصدر فيها وزارة الخارجية بيانا تندد فيه بتغطية الإعلام لنشاطها، إذ سبق أن هاجمت قناة إيرانية تابعة للدولة بالتحيز في تغطية مفاوضات فيينا. وانتقد ظريف مجموعة في إيران قال إن لها مصلحة في أن ترى كل شيء من منظور أمني، بحسب الغارديان. \"أنصار نافالني يواجهون القمع\" ونشرت صحيفة الفايننشال تايمز تقريرا كتبه، ماكس سيدون، في موسكو، يتحدث فيه عن أنصار المعارض الروسي، أليكسي نافالني، وما يتعرضون له من مضايقات وتخويف وقمع. أنصار نافالني يقولون إنهم يتعرضون للمضايقات والتخويف ويقول أنصار نافالني، حسب الكاتب، إنهم يتعرضون لضغوط شديدة من أجل التخلي عن مساندة المعارض المسجون. ويتوقع أن تصنف المحكمة تنظيمهم بأنه جماعة \"متطرفة\" تشبه تنظيم القاعدة. وتعرض هذه الخطوة أعضاء التنظيم إلى السجن 10 أعوام. ويسمح تصنيف المحكمة للتنظيم بأنه \"متطرف\" بمنع التمويل عنه، وكذا غلق مكاتبه في كامل مناطق البلاد. وبالتالي منع الأعضاء من التواصل والنشاط بشكل نهائي. ويقول أنصار نافالني إنهم ينتظرون قرار المحكمة وكأنهم في حالة حصار، إذ شرع بعضهم فعلا في غلق المكاتب، وقرر آخرون ترك وسائل التواصل الاجتماعي. وبدأت الشرطة تتعقب أنصار نافالني بشكل واسع منذ احتجاجات يناير/ كانون الثاني التي خرجت تطالب بالإفراج عنه. وألقت القبض على عدد منهم وقضى بعضهم عقوبة في السجن، بينما تعرض آخرون إلى أشكال متعددة من التخويف والمضايقات. ويرى الكاتب أن تحرك السلطات الأمنية لتفكيك شبكة أنصار نافالني والقضاء على نشاطها يعني أن النظام يريد إسكات المعارض نهائيا. وقد غادر عدد من كبار مساعديه البلاد هربا إلى أوروبا. واعتقلت الشرطة عددا آخر في مكاتب الشبكة في موسكو. ويرى الكاتب أن أنصار نافالني يمرون بأيام عصيبة في روسيا لأنه لا وجود لصحافة حرة هناك، كما أن المنظمات الحقوقية التي تدافع عن الحريات المدنية قليلة جدا. الهند \"تختنق\" ونشرت صحيفة ديلي تلغراف تعليقا كتبه، عدنان نسيم الله، يدعو فيه بريطانيا إلى مساعدة الهند في معركتها مع فيروس كورونا. نقص الأكسجين في المستشفيات أدى إلى وفاة الآلاف ويقول الكاتب إن الهند في معركة طاحنة مع فيروس كورونا، إذ تجاوز عدد الوفيات اليومية فيها كل الأرقام العالمية. ولم تعد المستشفيات قادرة على استيعاب الأعداد المتزايدة من المصابين، لعدم توفر الأسرة الكافية والمعدات الطبية المطلوبة. وإذا لم تتحرك دول العالم بالمساعدة، فإن عدد الوفيات سيتجاوز كل المعدلات العالمية. ويرى الكاتب أن دول العالم وبريطانيا لها الإمكانيات وهي مطالبة بالتدخل من أجل وقف الكارثة. وتعاني الهند من ندرة الأكسجين الذي يعد عنصرا رئيسيا في التكفل بالمصابين بالفيروس، فقد انقطع الأكسجين في الكثير من مستشفيات البلاد، مما أدى إلى وفاة الآلاف من المصابين بمرض يمكن علاجه. ويرى الكاتب أن بريطانيا حققت نجاحا باهرا في عملية التلقيح لذلك فإن عدد الإصابات في البلاد في تناقص مستمر وكذلك عدد المرضى في المستشفيات. وتحقق هذا النجاح بفضل لقاح أسترازينيكا الذي أنتج في الهند. وبما أن الظروف تحسنت في البلاد، فإن بريطانيا لديها الآن فائض في المعدات الطبية المستعملة في علاج مرضى فيروس كورونا. ويمكن للدولة أن تسخر إمكانياتها الضخمة لتوصيل المعدات للهند. ويرى الكاتب أيضا أن العلاقات التاريخية التي تجمع بريطانيا بالهند تحتم عليها أن تسارع إلى تقديم المساعدات العاجلة لها في هذه الظروف. كما أن مصلحة بريطانيا بعد الخروج من الاتحاد الأوروبي تكمن في تعزيز العلاقات مع دولة مثل الهند. ويضيف أن الهنود الآن يشعرون بضيق في التنفس وهي فرصة عظيمة أمام بريطانيا لتظهر للعالم كيف ستتدخل من أجل حل هذه الأزمة الإنسانية.<|im_end|>\\n<|im_start|>assistant\\n<think>\\n\\n</think>\\n\\nوزارة الخارجية الإيرانية تنفي تصريحات ظريف حول سيطرة سليماني على الدبلوماسية، وتصفها بالمجتزأة والمُتلاعب بها. يأتي ذلك وسط جدل حول الاتفاق النووي. بعض الآراء تشير إلى محاولة تشويه مصداقية ظريف، بينما يرى آخرون رغبته في التنصل من فشل محتمل للمفاوضات. في روسيا، يواجه أنصار نافالني القمع والتخويف، وقد تصنفهم المحكمة كجماعة متطرفة. الهند تكافح جائحة كورونا مع نقص حاد في الأكسجين، مما أدى إلى ارتفاع الوفيات. الكاتب يدعو بريطانيا لتقديم المساعدة للهند، مستشهداً بالعلاقات التاريخية بين البلدين ومصلحة بريطانيا بعد البريكست.<|im_end|>\\n',\n",
              " 'summary': 'وزارة الخارجية الإيرانية تنفي تصريحات ظريف حول سيطرة سليماني على الدبلوماسية، وتصفها بالمجتزأة والمُتلاعب بها. يأتي ذلك وسط جدل حول الاتفاق النووي. بعض الآراء تشير إلى محاولة تشويه مصداقية ظريف، بينما يرى آخرون رغبته في التنصل من فشل محتمل للمفاوضات. في روسيا، يواجه أنصار نافالني القمع والتخويف، وقد تصنفهم المحكمة كجماعة متطرفة. الهند تكافح جائحة كورونا مع نقص حاد في الأكسجين، مما أدى إلى ارتفاع الوفيات. الكاتب يدعو بريطانيا لتقديم المساعدة للهند، مستشهداً بالعلاقات التاريخية بين البلدين ومصلحة بريطانيا بعد البريكست.',\n",
              " '__index_level_0__': 'inthepress-56883132'}"
            ]
          },
          "metadata": {},
          "execution_count": 6
        }
      ]
    },
    {
      "cell_type": "markdown",
      "metadata": {
        "id": "idAEIeSQ3xdS"
      },
      "source": [
        "<a name=\"Train\"></a>\n",
        "### Train the model\n",
        "Now let's use Huggingface TRL's `SFTTrainer`! More docs here: [TRL SFT docs](https://huggingface.co/docs/trl/sft_trainer). We do 60 steps to speed things up, but you can set `num_train_epochs=1` for a full run, and turn off `max_steps=None`. We also support TRL's `DPOTrainer`!\n",
        "\n",
        "The trainer includes our **gradient accumulation bug fix**. Read more about it here: [Blog post](https://unsloth.ai/blog/gradient)"
      ]
    },
    {
      "cell_type": "code",
      "execution_count": 7,
      "metadata": {
        "id": "95_Nn-89DhsL"
      },
      "outputs": [],
      "source": [
        "from trl import SFTTrainer\n",
        "from transformers import TrainingArguments\n",
        "from unsloth import is_bfloat16_supported\n",
        "\n",
        "trainer = SFTTrainer(\n",
        "    model = model,\n",
        "    tokenizer = tokenizer,\n",
        "    train_dataset = dataset_train,\n",
        "    eval_dataset = dataset_test, # Can set up evaluation!\n",
        "\n",
        "    dataset_text_field = \"text\",\n",
        "    max_seq_length = max_seq_length,\n",
        "    dataset_num_proc = 2,\n",
        "    args = TrainingArguments(\n",
        "        per_device_train_batch_size = 32,\n",
        "        gradient_accumulation_steps = 1,\n",
        "\n",
        "        # Use num_train_epochs = 1, warmup_ratio for full training runs!\n",
        "        warmup_steps = 5,\n",
        "        max_steps = 350,\n",
        "\n",
        "        learning_rate = 2e-4,\n",
        "        fp16 = not is_bfloat16_supported(),\n",
        "        bf16 = is_bfloat16_supported(),\n",
        "        logging_steps = 1,\n",
        "        optim = \"adamw_8bit\",\n",
        "        weight_decay = 0.01,\n",
        "        lr_scheduler_type = \"linear\",\n",
        "        seed = 3407,\n",
        "        output_dir = \"outputs\",\n",
        "        report_to = \"none\", # Use this for WandB etc\n",
        "    ),\n",
        ")"
      ]
    },
    {
      "cell_type": "code",
      "source": [
        "dataset_train[100]"
      ],
      "metadata": {
        "id": "OrxZLwr2rnYK",
        "outputId": "233e07fd-87f7-4785-a2b3-ad02ea3752de",
        "colab": {
          "base_uri": "https://localhost:8080/"
        }
      },
      "execution_count": 8,
      "outputs": [
        {
          "output_type": "execute_result",
          "data": {
            "text/plain": [
              "{'text': '<|im_start|>user\\nSummarize the following Arabic text clearly, concisely, and accurately:\\nوزارة الخارجية الإيرانية قالت إن تصريحات ظريف جرى التلاعب فيها واعترف ظريف في هذه التسريبات المزعومة بأن سليماني كان يسيطر على الدبلوماسية بشكل كبير إلى درجة أن تأثيره هو في قيادة دبلوماسية بلاده يكاد يكون منعدما، بحسب ما نقلته الغارديان. وأوضحت الصحيفة أن وزارة الخارجية الإيرانية قالت إن التصريحات التي وردت في حوار أجراه ظريف مع موقع إيران إنترناشونال \"مجتزأة\" وجرى التلاعب فيها من خلال اختيار أجزاء محددة منها. ويذكر الكاتب أن البعض يرى أن نشر هذه التسريبات هدفه ضرب مصداقية ظريف في مفاوضات الملف النووي، بينما يرى آخرون أن ظريف نفسه يريد أن ينفض يديه من فشل محتمل للمفاوضات مع الدول الغربية. وتأتي هذه التصريحات المسربة وسط احتدام المعركة في إيران بشأن إعادة إحياء الاتفاق النووي الذي أبرمته إيران مع الدول العظمى في 2015. مواضيع قد تهمك نهاية وتجري مفاوضات في فيينا بين واشنطن وطهران. واعترفت وزارة الخارجية بأن الحوار حقيقي، ولكنها قالت إنه لم يكن موجها للنشر، مضيفة أن المحتوى تم التلاعب فيه لجعل تصريحات ظريف تبدو انتقادا لسليماني. وأضاف الكاتب أن هذه هي المرة الثانية التي تصدر فيها وزارة الخارجية بيانا تندد فيه بتغطية الإعلام لنشاطها، إذ سبق أن هاجمت قناة إيرانية تابعة للدولة بالتحيز في تغطية مفاوضات فيينا. وانتقد ظريف مجموعة في إيران قال إن لها مصلحة في أن ترى كل شيء من منظور أمني، بحسب الغارديان. \"أنصار نافالني يواجهون القمع\" ونشرت صحيفة الفايننشال تايمز تقريرا كتبه، ماكس سيدون، في موسكو، يتحدث فيه عن أنصار المعارض الروسي، أليكسي نافالني، وما يتعرضون له من مضايقات وتخويف وقمع. أنصار نافالني يقولون إنهم يتعرضون للمضايقات والتخويف ويقول أنصار نافالني، حسب الكاتب، إنهم يتعرضون لضغوط شديدة من أجل التخلي عن مساندة المعارض المسجون. ويتوقع أن تصنف المحكمة تنظيمهم بأنه جماعة \"متطرفة\" تشبه تنظيم القاعدة. وتعرض هذه الخطوة أعضاء التنظيم إلى السجن 10 أعوام. ويسمح تصنيف المحكمة للتنظيم بأنه \"متطرف\" بمنع التمويل عنه، وكذا غلق مكاتبه في كامل مناطق البلاد. وبالتالي منع الأعضاء من التواصل والنشاط بشكل نهائي. ويقول أنصار نافالني إنهم ينتظرون قرار المحكمة وكأنهم في حالة حصار، إذ شرع بعضهم فعلا في غلق المكاتب، وقرر آخرون ترك وسائل التواصل الاجتماعي. وبدأت الشرطة تتعقب أنصار نافالني بشكل واسع منذ احتجاجات يناير/ كانون الثاني التي خرجت تطالب بالإفراج عنه. وألقت القبض على عدد منهم وقضى بعضهم عقوبة في السجن، بينما تعرض آخرون إلى أشكال متعددة من التخويف والمضايقات. ويرى الكاتب أن تحرك السلطات الأمنية لتفكيك شبكة أنصار نافالني والقضاء على نشاطها يعني أن النظام يريد إسكات المعارض نهائيا. وقد غادر عدد من كبار مساعديه البلاد هربا إلى أوروبا. واعتقلت الشرطة عددا آخر في مكاتب الشبكة في موسكو. ويرى الكاتب أن أنصار نافالني يمرون بأيام عصيبة في روسيا لأنه لا وجود لصحافة حرة هناك، كما أن المنظمات الحقوقية التي تدافع عن الحريات المدنية قليلة جدا. الهند \"تختنق\" ونشرت صحيفة ديلي تلغراف تعليقا كتبه، عدنان نسيم الله، يدعو فيه بريطانيا إلى مساعدة الهند في معركتها مع فيروس كورونا. نقص الأكسجين في المستشفيات أدى إلى وفاة الآلاف ويقول الكاتب إن الهند في معركة طاحنة مع فيروس كورونا، إذ تجاوز عدد الوفيات اليومية فيها كل الأرقام العالمية. ولم تعد المستشفيات قادرة على استيعاب الأعداد المتزايدة من المصابين، لعدم توفر الأسرة الكافية والمعدات الطبية المطلوبة. وإذا لم تتحرك دول العالم بالمساعدة، فإن عدد الوفيات سيتجاوز كل المعدلات العالمية. ويرى الكاتب أن دول العالم وبريطانيا لها الإمكانيات وهي مطالبة بالتدخل من أجل وقف الكارثة. وتعاني الهند من ندرة الأكسجين الذي يعد عنصرا رئيسيا في التكفل بالمصابين بالفيروس، فقد انقطع الأكسجين في الكثير من مستشفيات البلاد، مما أدى إلى وفاة الآلاف من المصابين بمرض يمكن علاجه. ويرى الكاتب أن بريطانيا حققت نجاحا باهرا في عملية التلقيح لذلك فإن عدد الإصابات في البلاد في تناقص مستمر وكذلك عدد المرضى في المستشفيات. وتحقق هذا النجاح بفضل لقاح أسترازينيكا الذي أنتج في الهند. وبما أن الظروف تحسنت في البلاد، فإن بريطانيا لديها الآن فائض في المعدات الطبية المستعملة في علاج مرضى فيروس كورونا. ويمكن للدولة أن تسخر إمكانياتها الضخمة لتوصيل المعدات للهند. ويرى الكاتب أيضا أن العلاقات التاريخية التي تجمع بريطانيا بالهند تحتم عليها أن تسارع إلى تقديم المساعدات العاجلة لها في هذه الظروف. كما أن مصلحة بريطانيا بعد الخروج من الاتحاد الأوروبي تكمن في تعزيز العلاقات مع دولة مثل الهند. ويضيف أن الهنود الآن يشعرون بضيق في التنفس وهي فرصة عظيمة أمام بريطانيا لتظهر للعالم كيف ستتدخل من أجل حل هذه الأزمة الإنسانية.<|im_end|>\\n<|im_start|>assistant\\n<think>\\n\\n</think>\\n\\nوزارة الخارجية الإيرانية تنفي تصريحات ظريف حول سيطرة سليماني على الدبلوماسية، وتصفها بالمجتزأة والمُتلاعب بها. يأتي ذلك وسط جدل حول الاتفاق النووي. بعض الآراء تشير إلى محاولة تشويه مصداقية ظريف، بينما يرى آخرون رغبته في التنصل من فشل محتمل للمفاوضات. في روسيا، يواجه أنصار نافالني القمع والتخويف، وقد تصنفهم المحكمة كجماعة متطرفة. الهند تكافح جائحة كورونا مع نقص حاد في الأكسجين، مما أدى إلى ارتفاع الوفيات. الكاتب يدعو بريطانيا لتقديم المساعدة للهند، مستشهداً بالعلاقات التاريخية بين البلدين ومصلحة بريطانيا بعد البريكست.<|im_end|>\\n',\n",
              " 'summary': 'وزارة الخارجية الإيرانية تنفي تصريحات ظريف حول سيطرة سليماني على الدبلوماسية، وتصفها بالمجتزأة والمُتلاعب بها. يأتي ذلك وسط جدل حول الاتفاق النووي. بعض الآراء تشير إلى محاولة تشويه مصداقية ظريف، بينما يرى آخرون رغبته في التنصل من فشل محتمل للمفاوضات. في روسيا، يواجه أنصار نافالني القمع والتخويف، وقد تصنفهم المحكمة كجماعة متطرفة. الهند تكافح جائحة كورونا مع نقص حاد في الأكسجين، مما أدى إلى ارتفاع الوفيات. الكاتب يدعو بريطانيا لتقديم المساعدة للهند، مستشهداً بالعلاقات التاريخية بين البلدين ومصلحة بريطانيا بعد البريكست.',\n",
              " '__index_level_0__': 'inthepress-56883132'}"
            ]
          },
          "metadata": {},
          "execution_count": 8
        }
      ]
    },
    {
      "cell_type": "code",
      "source": [
        "from unsloth.chat_templates import train_on_responses_only\n",
        "\n",
        "trainer = train_on_responses_only(\n",
        "    trainer,\n",
        "    instruction_part=\"<|im_start|>user\\n\",\n",
        "    response_part=\"<|im_start|>assistant\\n\",\n",
        ")\n"
      ],
      "metadata": {
        "id": "3y4iCsvcrmgg"
      },
      "execution_count": 9,
      "outputs": []
    },
    {
      "cell_type": "code",
      "execution_count": 10,
      "metadata": {
        "cellView": "form",
        "colab": {
          "base_uri": "https://localhost:8080/"
        },
        "id": "2ejIt2xSNKKp",
        "outputId": "269462ad-f007-4955-affe-80b616ac13ca"
      },
      "outputs": [
        {
          "output_type": "stream",
          "name": "stdout",
          "text": [
            "GPU = Tesla T4. Max memory = 14.741 GB.\n",
            "1.428 GB of memory reserved.\n"
          ]
        }
      ],
      "source": [
        "# @title Show current memory stats\n",
        "gpu_stats = torch.cuda.get_device_properties(0)\n",
        "start_gpu_memory = round(torch.cuda.max_memory_reserved() / 1024 / 1024 / 1024, 3)\n",
        "max_memory = round(gpu_stats.total_memory / 1024 / 1024 / 1024, 3)\n",
        "print(f\"GPU = {gpu_stats.name}. Max memory = {max_memory} GB.\")\n",
        "print(f\"{start_gpu_memory} GB of memory reserved.\")"
      ]
    },
    {
      "cell_type": "code",
      "execution_count": null,
      "metadata": {
        "colab": {
          "base_uri": "https://localhost:8080/",
          "height": 179
        },
        "id": "yqxqAZ7KJ4oL",
        "outputId": "54caaef2-04af-43c6-b616-2aadb468e77d"
      },
      "outputs": [
        {
          "output_type": "stream",
          "name": "stderr",
          "text": [
            "==((====))==  Unsloth - 2x faster free finetuning | Num GPUs used = 1\n",
            "   \\\\   /|    Num examples = 14,001 | Num Epochs = 1 | Total steps = 350\n",
            "O^O/ \\_/ \\    Batch size per device = 32 | Gradient accumulation steps = 1\n",
            "\\        /    Data Parallel GPUs = 1 | Total batch size (32 x 1 x 1) = 32\n",
            " \"-____-\"     Trainable parameters = 40,370,176/636,420,096 (6.34% trained)\n"
          ]
        },
        {
          "output_type": "display_data",
          "data": {
            "text/plain": [
              "<IPython.core.display.HTML object>"
            ],
            "text/html": [
              "\n",
              "    <div>\n",
              "      \n",
              "      <progress value='2' max='350' style='width:300px; height:20px; vertical-align: middle;'></progress>\n",
              "      [  2/350 : < :, Epoch 0.00/1]\n",
              "    </div>\n",
              "    <table border=\"1\" class=\"dataframe\">\n",
              "  <thead>\n",
              " <tr style=\"text-align: left;\">\n",
              "      <th>Step</th>\n",
              "      <th>Training Loss</th>\n",
              "    </tr>\n",
              "  </thead>\n",
              "  <tbody>\n",
              "  </tbody>\n",
              "</table><p>"
            ]
          },
          "metadata": {}
        },
        {
          "output_type": "stream",
          "name": "stdout",
          "text": [
            "Unsloth: Will smartly offload gradients to save VRAM!\n"
          ]
        }
      ],
      "source": [
        "trainer_stats = trainer.train()"
      ]
    },
    {
      "cell_type": "code",
      "execution_count": null,
      "metadata": {
        "cellView": "form",
        "colab": {
          "base_uri": "https://localhost:8080/"
        },
        "id": "pCqnaKmlO1U9",
        "outputId": "1cb6ec52-4986-4bd5-99bd-69a03ca47ec0"
      },
      "outputs": [
        {
          "name": "stdout",
          "output_type": "stream",
          "text": [
            "822.5598 seconds used for training.\n",
            "13.71 minutes used for training.\n",
            "Peak reserved memory = 12.949 GB.\n",
            "Peak reserved memory for training = 1.051 GB.\n",
            "Peak reserved memory % of max memory = 87.843 %.\n",
            "Peak reserved memory for training % of max memory = 7.13 %.\n"
          ]
        }
      ],
      "source": [
        "# @title Show final memory and time stats\n",
        "used_memory = round(torch.cuda.max_memory_reserved() / 1024 / 1024 / 1024, 3)\n",
        "used_memory_for_lora = round(used_memory - start_gpu_memory, 3)\n",
        "used_percentage = round(used_memory / max_memory * 100, 3)\n",
        "lora_percentage = round(used_memory_for_lora / max_memory * 100, 3)\n",
        "print(f\"{trainer_stats.metrics['train_runtime']} seconds used for training.\")\n",
        "print(\n",
        "    f\"{round(trainer_stats.metrics['train_runtime']/60, 2)} minutes used for training.\"\n",
        ")\n",
        "print(f\"Peak reserved memory = {used_memory} GB.\")\n",
        "print(f\"Peak reserved memory for training = {used_memory_for_lora} GB.\")\n",
        "print(f\"Peak reserved memory % of max memory = {used_percentage} %.\")\n",
        "print(f\"Peak reserved memory for training % of max memory = {lora_percentage} %.\")"
      ]
    },
    {
      "cell_type": "markdown",
      "metadata": {
        "id": "ekOmTR1hSNcr"
      },
      "source": [
        "<a name=\"Inference\"></a>\n",
        "### Inference\n",
        "Let's run the model! You can change the instruction and input - leave the output blank!\n",
        "\n",
        "**[NEW] Try 2x faster inference in a free Colab for Llama-3.1 8b Instruct [here](https://colab.research.google.com/github/unslothai/notebooks/blob/main/nb/Unsloth_Studio.ipynb)**\n",
        "\n",
        "We use `min_p = 0.1` and `temperature = 1.5`. Read this [Tweet](https://x.com/menhguin/status/1826132708508213629) for more information on why."
      ]
    },
    {
      "cell_type": "code",
      "execution_count": null,
      "metadata": {
        "colab": {
          "base_uri": "https://localhost:8080/"
        },
        "id": "kR3gIAX-SM2q",
        "outputId": "5de159a9-4259-4df9-e180-92ee67e7cbc6"
      },
      "outputs": [
        {
          "data": {
            "text/plain": [
              "['Below is an instruction that describes a task, paired with an input that provides further context. Write a response that appropriately completes the request.\\n\\n### Instruction:\\nContinue the fibonnaci sequence.\\n\\n### Input:\\n1, 1, 2, 3, 5, 8\\n\\n### Response:\\n13, 21, 34, 55, 89, 144, 233, 377, 610, 987, 1597, 2584, 4181, 6']"
            ]
          },
          "execution_count": 9,
          "metadata": {},
          "output_type": "execute_result"
        }
      ],
      "source": [
        "# alpaca_prompt = Copied from above\n",
        "FastLanguageModel.for_inference(model) # Enable native 2x faster inference\n",
        "inputs = tokenizer(\n",
        "[\n",
        "    alpaca_prompt.format(\n",
        "        \"Continue the fibonnaci sequence.\", # instruction\n",
        "        \"1, 1, 2, 3, 5, 8\", # input\n",
        "        \"\", # output - leave this blank for generation!\n",
        "    )\n",
        "], return_tensors = \"pt\").to(\"cuda\")\n",
        "\n",
        "outputs = model.generate(**inputs, max_new_tokens = 64, use_cache = True)\n",
        "tokenizer.batch_decode(outputs)"
      ]
    },
    {
      "cell_type": "markdown",
      "metadata": {
        "id": "CrSvZObor0lY"
      },
      "source": [
        " You can also use a `TextStreamer` for continuous inference - so you can see the generation token by token, instead of waiting the whole time!"
      ]
    },
    {
      "cell_type": "code",
      "execution_count": null,
      "metadata": {
        "colab": {
          "base_uri": "https://localhost:8080/"
        },
        "id": "e2pEuRb1r2Vg",
        "outputId": "73b52665-8d98-47dd-ea5d-ef789eb51133"
      },
      "outputs": [
        {
          "name": "stdout",
          "output_type": "stream",
          "text": [
            "Below is an instruction that describes a task, paired with an input that provides further context. Write a response that appropriately completes the request.\n",
            "\n",
            "### Instruction:\n",
            "Continue the fibonnaci sequence.\n",
            "\n",
            "### Input:\n",
            "1, 1, 2, 3, 5, 8\n",
            "\n",
            "### Response:\n",
            "13, 21, 34, 55, 89, 144, 233, 377, 610, 987, 1597, 2584, 4181, 6765, 10946, 17711, 28657, 46368, 75025, 121393, 196418, 317811, \n"
          ]
        }
      ],
      "source": [
        "# alpaca_prompt = Copied from above\n",
        "FastLanguageModel.for_inference(model) # Enable native 2x faster inference\n",
        "inputs = tokenizer(\n",
        "[\n",
        "    alpaca_prompt.format(\n",
        "        \"Continue the fibonnaci sequence.\", # instruction\n",
        "        \"1, 1, 2, 3, 5, 8\", # input\n",
        "        \"\", # output - leave this blank for generation!\n",
        "    )\n",
        "], return_tensors = \"pt\").to(\"cuda\")\n",
        "\n",
        "from transformers import TextStreamer\n",
        "text_streamer = TextStreamer(tokenizer)\n",
        "_ = model.generate(**inputs, streamer = text_streamer, max_new_tokens = 128)"
      ]
    },
    {
      "cell_type": "markdown",
      "metadata": {
        "id": "uMuVrWbjAzhc"
      },
      "source": [
        "<a name=\"Save\"></a>\n",
        "### Saving, loading finetuned models\n",
        "To save the final model as LoRA adapters, either use Huggingface's `push_to_hub` for an online save or `save_pretrained` for a local save.\n",
        "\n",
        "**[NOTE]** This ONLY saves the LoRA adapters, and not the full model. To save to 16bit or GGUF, scroll down!"
      ]
    },
    {
      "cell_type": "code",
      "execution_count": null,
      "metadata": {
        "colab": {
          "base_uri": "https://localhost:8080/"
        },
        "id": "upcOlWe7A1vc",
        "outputId": "8e4eafeb-ccff-4b9d-c9ff-6ce012762c18"
      },
      "outputs": [
        {
          "data": {
            "text/plain": [
              "('lora_model/tokenizer_config.json',\n",
              " 'lora_model/special_tokens_map.json',\n",
              " 'lora_model/vocab.json',\n",
              " 'lora_model/merges.txt',\n",
              " 'lora_model/added_tokens.json',\n",
              " 'lora_model/tokenizer.json')"
            ]
          },
          "execution_count": 11,
          "metadata": {},
          "output_type": "execute_result"
        }
      ],
      "source": [
        "model.save_pretrained(\"lora_model\")  # Local saving\n",
        "tokenizer.save_pretrained(\"lora_model\")\n",
        "# model.push_to_hub(\"your_name/lora_model\", token = \"...\") # Online saving\n",
        "# tokenizer.push_to_hub(\"your_name/lora_model\", token = \"...\") # Online saving"
      ]
    },
    {
      "cell_type": "markdown",
      "metadata": {
        "id": "AEEcJ4qfC7Lp"
      },
      "source": [
        "Now if you want to load the LoRA adapters we just saved for inference, set `False` to `True`:"
      ]
    },
    {
      "cell_type": "code",
      "execution_count": null,
      "metadata": {
        "colab": {
          "base_uri": "https://localhost:8080/"
        },
        "id": "MKX_XKs_BNZR",
        "outputId": "7da46b33-35d7-4dc6-9d6c-c2c3b166573a"
      },
      "outputs": [
        {
          "name": "stdout",
          "output_type": "stream",
          "text": [
            "Below is an instruction that describes a task, paired with an input that provides further context. Write a response that appropriately completes the request.\n",
            "\n",
            "### Instruction:\n",
            "What is a famous tall tower in Paris?\n",
            "\n",
            "### Input:\n",
            "\n",
            "\n",
            "### Response:\n",
            "One of the most famous tall towers in Paris is the Eiffel Tower. It is a wrought-iron lattice tower located on the Champ de Mars in the 7th arrondissement of Paris, France. It was constructed as the entrance arch to the 1889 World's Fair, and it has since become an enduring symbol of Paris and France. The Eiffel Tower is 330 meters (1,083 ft) tall and is the tallest structure in Paris.<|im_end|>\n"
          ]
        }
      ],
      "source": [
        "if False:\n",
        "    from unsloth import FastLanguageModel\n",
        "    model, tokenizer = FastLanguageModel.from_pretrained(\n",
        "        model_name = \"lora_model\", # YOUR MODEL YOU USED FOR TRAINING\n",
        "        max_seq_length = max_seq_length,\n",
        "        dtype = dtype,\n",
        "        load_in_4bit = load_in_4bit,\n",
        "    )\n",
        "    FastLanguageModel.for_inference(model) # Enable native 2x faster inference\n",
        "\n",
        "# alpaca_prompt = You MUST copy from above!\n",
        "\n",
        "inputs = tokenizer(\n",
        "[\n",
        "    alpaca_prompt.format(\n",
        "        \"What is a famous tall tower in Paris?\", # instruction\n",
        "        \"\", # input\n",
        "        \"\", # output - leave this blank for generation!\n",
        "    )\n",
        "], return_tensors = \"pt\").to(\"cuda\")\n",
        "\n",
        "from transformers import TextStreamer\n",
        "text_streamer = TextStreamer(tokenizer)\n",
        "_ = model.generate(**inputs, streamer = text_streamer, max_new_tokens = 128)"
      ]
    },
    {
      "cell_type": "markdown",
      "metadata": {
        "id": "QQMjaNrjsU5_"
      },
      "source": [
        "You can also use Hugging Face's `AutoModelForPeftCausalLM`. Only use this if you do not have `unsloth` installed. It can be hopelessly slow, since `4bit` model downloading is not supported, and Unsloth's **inference is 2x faster**."
      ]
    },
    {
      "cell_type": "code",
      "execution_count": null,
      "metadata": {
        "id": "yFfaXG0WsQuE"
      },
      "outputs": [],
      "source": [
        "if False:\n",
        "    # I highly do NOT suggest - use Unsloth if possible\n",
        "    from peft import AutoPeftModelForCausalLM\n",
        "    from transformers import AutoTokenizer\n",
        "\n",
        "    model = AutoPeftModelForCausalLM.from_pretrained(\n",
        "        \"lora_model\",  # YOUR MODEL YOU USED FOR TRAINING\n",
        "        load_in_4bit=load_in_4bit,\n",
        "    )\n",
        "    tokenizer = AutoTokenizer.from_pretrained(\"lora_model\")"
      ]
    },
    {
      "cell_type": "markdown",
      "metadata": {
        "id": "f422JgM9sdVT"
      },
      "source": [
        "### Saving to float16 for VLLM\n",
        "\n",
        "We also support saving to `float16` directly. Select `merged_16bit` for float16 or `merged_4bit` for int4. We also allow `lora` adapters as a fallback. Use `push_to_hub_merged` to upload to your Hugging Face account! You can go to https://huggingface.co/settings/tokens for your personal tokens."
      ]
    },
    {
      "cell_type": "code",
      "execution_count": null,
      "metadata": {
        "id": "iHjt_SMYsd3P"
      },
      "outputs": [],
      "source": [
        "# Merge to 16bit\n",
        "if False: model.save_pretrained_merged(\"model\", tokenizer, save_method = \"merged_16bit\",)\n",
        "if False: model.push_to_hub_merged(\"hf/model\", tokenizer, save_method = \"merged_16bit\", token = \"\")\n",
        "\n",
        "# Merge to 4bit\n",
        "if False: model.save_pretrained_merged(\"model\", tokenizer, save_method = \"merged_4bit\",)\n",
        "if False: model.push_to_hub_merged(\"hf/model\", tokenizer, save_method = \"merged_4bit\", token = \"\")\n",
        "\n",
        "# Just LoRA adapters\n",
        "if False: model.save_pretrained_merged(\"model\", tokenizer, save_method = \"lora\",)\n",
        "if False: model.push_to_hub_merged(\"hf/model\", tokenizer, save_method = \"lora\", token = \"\")"
      ]
    },
    {
      "cell_type": "markdown",
      "metadata": {
        "id": "TCv4vXHd61i7"
      },
      "source": [
        "### GGUF / llama.cpp Conversion\n",
        "To save to `GGUF` / `llama.cpp`, we support it natively now! We clone `llama.cpp` and we default save it to `q8_0`. We allow all methods like `q4_k_m`. Use `save_pretrained_gguf` for local saving and `push_to_hub_gguf` for uploading to HF.\n",
        "\n",
        "Some supported quant methods (full list on our [Wiki page](https://github.com/unslothai/unsloth/wiki#gguf-quantization-options)):\n",
        "* `q8_0` - Fast conversion. High resource use, but generally acceptable.\n",
        "* `q4_k_m` - Recommended. Uses Q6_K for half of the attention.wv and feed_forward.w2 tensors, else Q4_K.\n",
        "* `q5_k_m` - Recommended. Uses Q6_K for half of the attention.wv and feed_forward.w2 tensors, else Q5_K.\n",
        "\n",
        "[**NEW**] To finetune and auto export to Ollama, try our [Ollama notebook](https://colab.research.google.com/github/unslothai/notebooks/blob/main/nb/Llama3_(8B)-Ollama.ipynb)"
      ]
    },
    {
      "cell_type": "code",
      "execution_count": null,
      "metadata": {
        "id": "FqfebeAdT073"
      },
      "outputs": [],
      "source": [
        "# Save to 8bit Q8_0\n",
        "if False: model.save_pretrained_gguf(\"model\", tokenizer,)\n",
        "# Remember to go to https://huggingface.co/settings/tokens for a token!\n",
        "# And change hf to your username!\n",
        "if False: model.push_to_hub_gguf(\"hf/model\", tokenizer, token = \"\")\n",
        "\n",
        "# Save to 16bit GGUF\n",
        "if False: model.save_pretrained_gguf(\"model\", tokenizer, quantization_method = \"f16\")\n",
        "if False: model.push_to_hub_gguf(\"hf/model\", tokenizer, quantization_method = \"f16\", token = \"\")\n",
        "\n",
        "# Save to q4_k_m GGUF\n",
        "if False: model.save_pretrained_gguf(\"model\", tokenizer, quantization_method = \"q4_k_m\")\n",
        "if False: model.push_to_hub_gguf(\"hf/model\", tokenizer, quantization_method = \"q4_k_m\", token = \"\")\n",
        "\n",
        "# Save to multiple GGUF options - much faster if you want multiple!\n",
        "if False:\n",
        "    model.push_to_hub_gguf(\n",
        "        \"hf/model\", # Change hf to your username!\n",
        "        tokenizer,\n",
        "        quantization_method = [\"q4_k_m\", \"q8_0\", \"q5_k_m\",],\n",
        "        token = \"\", # Get a token at https://huggingface.co/settings/tokens\n",
        "    )"
      ]
    },
    {
      "cell_type": "markdown",
      "metadata": {
        "id": "zehUeTl2pjya"
      },
      "source": [
        "Now, use the `model-unsloth.gguf` file or `model-unsloth-Q4_K_M.gguf` file in llama.cpp or a UI based system like Jan or Open WebUI. You can install Jan [here](https://github.com/janhq/jan) and Open WebUI [here](https://github.com/open-webui/open-webui)\n",
        "\n",
        "And we're done! If you have any questions on Unsloth, we have a [Discord](https://discord.gg/unsloth) channel! If you find any bugs or want to keep updated with the latest LLM stuff, or need help, join projects etc, feel free to join our Discord!\n",
        "\n",
        "Some other links:\n",
        "1. Train your own reasoning model - Llama GRPO notebook [Free Colab](https://colab.research.google.com/github/unslothai/notebooks/blob/main/nb/Llama3.1_(8B)-GRPO.ipynb)\n",
        "2. Saving finetunes to Ollama. [Free notebook](https://colab.research.google.com/github/unslothai/notebooks/blob/main/nb/Llama3_(8B)-Ollama.ipynb)\n",
        "3. Llama 3.2 Vision finetuning - Radiography use case. [Free Colab](https://colab.research.google.com/github/unslothai/notebooks/blob/main/nb/Llama3.2_(11B)-Vision.ipynb)\n",
        "6. See notebooks for DPO, ORPO, Continued pretraining, conversational finetuning and more on our [documentation](https://docs.unsloth.ai/get-started/unsloth-notebooks)!\n",
        "\n",
        "<div class=\"align-center\">\n",
        "  <a href=\"https://unsloth.ai\"><img src=\"https://github.com/unslothai/unsloth/raw/main/images/unsloth%20new%20logo.png\" width=\"115\"></a>\n",
        "  <a href=\"https://discord.gg/unsloth\"><img src=\"https://github.com/unslothai/unsloth/raw/main/images/Discord.png\" width=\"145\"></a>\n",
        "  <a href=\"https://docs.unsloth.ai/\"><img src=\"https://github.com/unslothai/unsloth/blob/main/images/documentation%20green%20button.png?raw=true\" width=\"125\"></a>\n",
        "\n",
        "  Join Discord if you need help + ⭐️ <i>Star us on <a href=\"https://github.com/unslothai/unsloth\">Github</a> </i> ⭐️\n",
        "</div>\n"
      ]
    }
  ],
  "metadata": {
    "accelerator": "GPU",
    "colab": {
      "gpuType": "T4",
      "provenance": []
    },
    "kernelspec": {
      "display_name": "Python 3",
      "name": "python3"
    },
    "language_info": {
      "name": "python"
    }
  },
  "nbformat": 4,
  "nbformat_minor": 0
}